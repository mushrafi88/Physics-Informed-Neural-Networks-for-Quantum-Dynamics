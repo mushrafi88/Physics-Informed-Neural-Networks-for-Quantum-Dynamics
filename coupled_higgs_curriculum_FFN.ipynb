{
 "cells": [
  {
   "cell_type": "markdown",
   "id": "1dc7a86c-65ae-45a3-97c5-67029d2b1726",
   "metadata": {},
   "source": [
    "# Coupled higgs equation \n",
    "$$\n",
    "u_{tt} - u_{xx} + |u|^2 u - 2uv = 0\n",
    "$$\n",
    "$$\n",
    "v_{tt} + v_{xx} - (\\left| u \\right|^2)_{xx} = 0\n",
    "$$\n",
    "\n",
    "where, $ u(x,t) $ represents a complex nucleon field and $ v(x,t) $ represents a real scalar meson field. The coupled Higgs field Equation describes a system of conserved scalar nucleon interaction with a neutral scalar meson.\n",
    "\n",
    "solutions \n",
    "\n",
    "$$\n",
    "u_1(x, t) = ir e^{ir(\\omega x + t)} \\sqrt{1 + \\omega^2} \\tanh\\left(\\frac{r(k + x + \\omega t)}{\\sqrt{2}}\\right)\n",
    "$$\n",
    "$$\n",
    "v_1(x, t) = r^2 \\tanh^2\\left(\\frac{r(k + x + \\omega t)}{\\sqrt{2}}\\right)\n",
    "$$\n",
    "\n",
    "for $t = 0$\n",
    "\n",
    "$$\n",
    "u_1(x, 0) = ir e^{ir \\omega x} \\sqrt{1 + \\omega^2} \\tanh\\left(\\frac{r(k + x)}{\\sqrt{2}}\\right)\n",
    "$$\n",
    "$$\n",
    "v_1(x, 0) = r^2 \\tanh^2\\left(\\frac{r(k + x)}{\\sqrt{2}}\\right)\n",
    "$$\n",
    "\n",
    "where \n",
    "$k = 4, \\omega = 5 , \\alpha = 2, c = 2, r = 2$\n"
   ]
  },
  {
   "cell_type": "code",
   "execution_count": 5,
   "id": "8ca80f90-4b39-47d4-92fa-5836d0bb6ae1",
   "metadata": {},
   "outputs": [
    {
     "data": {
      "text/plain": [
       "<torch.autograd.anomaly_mode.set_detect_anomaly at 0x7fffdc018ef0>"
      ]
     },
     "execution_count": 5,
     "metadata": {},
     "output_type": "execute_result"
    }
   ],
   "source": [
    "import torch\n",
    "import torch.nn as nn\n",
    "from torch.optim import Adam\n",
    "from torch.autograd import Variable\n",
    "from tqdm import tqdm\n",
    "import numpy as np\n",
    "import os\n",
    "import pandas as pd\n",
    "import gc\n",
    "\n",
    "device = torch.device('cuda' if torch.cuda.is_available() else 'cpu')\n",
    "torch.autograd.set_detect_anomaly(True)\n",
    "#device = torch.device('cpu')"
   ]
  },
  {
   "cell_type": "code",
   "execution_count": 6,
   "id": "e75ae1ad-8395-460d-9320-69e19cf813bc",
   "metadata": {},
   "outputs": [
    {
     "name": "stdout",
     "output_type": "stream",
     "text": [
      "FFN(\n",
      "  (layers): ModuleList(\n",
      "    (0): Linear(in_features=2, out_features=64, bias=True)\n",
      "    (1): Tanh()\n",
      "    (2): Linear(in_features=64, out_features=128, bias=True)\n",
      "    (3): Tanh()\n",
      "    (4): Linear(in_features=128, out_features=128, bias=True)\n",
      "    (5): Tanh()\n",
      "    (6): Linear(in_features=128, out_features=64, bias=True)\n",
      "    (7): Tanh()\n",
      "    (8): Linear(in_features=64, out_features=32, bias=True)\n",
      "    (9): Tanh()\n",
      "    (10): Linear(in_features=32, out_features=1, bias=True)\n",
      "  )\n",
      ")\n",
      "tensor([[0.1147]], grad_fn=<AddmmBackward0>)\n"
     ]
    }
   ],
   "source": [
    "import torch\n",
    "import torch.nn as nn\n",
    "\n",
    "class FFN(nn.Module):\n",
    "    def __init__(self, input_dim, neurons):\n",
    "        \"\"\"\n",
    "        Initializes the FFN model with a dynamic architecture.\n",
    "        \n",
    "        Parameters:\n",
    "        - input_dim: The dimensionality of the input. Should be 2 for this case since we are combining x and t.\n",
    "        - neurons: A list of integers, where each integer specifies the number of neurons in each layer.\n",
    "        \"\"\"\n",
    "        super(FFN, self).__init__()\n",
    "        \n",
    "        layers = []\n",
    "        for i in range(len(neurons)):\n",
    "            if i == 0:\n",
    "                layers.append(nn.Linear(input_dim, neurons[i]))\n",
    "            else:\n",
    "                layers.append(nn.Linear(neurons[i-1], neurons[i]))\n",
    "            if i < len(neurons) - 1:\n",
    "                layers.append(nn.Tanh())\n",
    "        self.layers = nn.ModuleList(layers)\n",
    "\n",
    "    def forward(self, x, t):\n",
    "        # Assuming x and t are single values or tensors of shape [batch_size, 1], we concatenate them\n",
    "        combined_input = torch.cat((x, t), dim=-1)  # Concatenate along the feature dimension\n",
    "        x = combined_input\n",
    "        for layer in self.layers:\n",
    "            x = layer(x)\n",
    "        return x\n",
    "\n",
    "# Adjust model instantiation if needed\n",
    "model = FFN(input_dim=2, neurons=[64, 128, 128, 64, 32, 1])\n",
    "\n",
    "# Example usage\n",
    "# Assuming x and t are single values for this example\n",
    "x_tensor = torch.tensor([[0.5]])  # Shape [1, 1] for batch size of 1\n",
    "t_tensor = torch.tensor([[-1.2]])  # Shape [1, 1]\n",
    "\n",
    "print(model)\n",
    "# Now you can pass x and t directly\n",
    "output = model(x_tensor, t_tensor)\n",
    "\n",
    "print(output)\n"
   ]
  },
  {
   "cell_type": "code",
   "execution_count": 7,
   "id": "68f688fa-e181-425e-a818-c80ea518e9a9",
   "metadata": {},
   "outputs": [],
   "source": [
    "def grad(y, x):\n",
    "    return torch.autograd.grad(y, x, grad_outputs=torch.ones_like(y), create_graph=True)[0]\n",
    "\n",
    "def laplacian(field, x, t):\n",
    "    field_x = grad(field, x)\n",
    "    field_xx = grad(field_x, x)\n",
    "    field_t = grad(field, t)\n",
    "    field_tt = grad(field_t, t)\n",
    "    return field_xx, field_tt\n",
    "\n",
    "# Define the ODE system for the Coupled Higgs field equations\n",
    "def coupled_higgs(u_real, u_imag, v, x, t):\n",
    "    u_r_xx, u_r_tt = laplacian(u_real, x, t)\n",
    "    u_i_xx, u_i_tt = laplacian(u_imag, x, t)\n",
    "    v_xx, v_tt = laplacian(v, x, t)\n",
    "\n",
    "    u_abs = torch.square(u_real) + torch.square(u_imag)\n",
    "    u_abs_xx, u_abs_tt = laplacian(u_abs, x, t)\n",
    "\n",
    "    # Calculate the field equations\n",
    "    du_eq_r = u_r_tt - u_r_xx + u_abs * u_real - 2 * u_real * v\n",
    "    du_eq_i = u_i_tt - u_i_xx + u_abs * u_imag - 2 * u_imag * v\n",
    "    dv_eq = v_tt + v_xx - u_abs_xx\n",
    "    \n",
    "    return du_eq_r, du_eq_i, dv_eq\n",
    "\n",
    "# Function to calculate the real part of u1\n",
    "def real_u1(x, t, k, omega, r):\n",
    "    complex_exp = torch.exp(1j * r * (omega * x + t))\n",
    "    tanh_val = torch.tanh((r * (k + x + omega * t)) / torch.sqrt(torch.tensor(2.0)))\n",
    "    result = torch.real(1j * r * complex_exp * torch.sqrt(torch.tensor(1) + omega**2) * tanh_val)\n",
    "    return result\n",
    "\n",
    "def imag_u1(x, t, k, omega, r):\n",
    "    complex_exp = torch.exp(1j * r * (omega * x + t))\n",
    "    tanh_val = torch.tanh((r * (k + x + omega * t)) / torch.sqrt(torch.tensor(2.0)))\n",
    "    result = torch.imag(1j * r * complex_exp * torch.sqrt(torch.tensor(1) + omega**2) * tanh_val)\n",
    "    return result\n",
    "\n",
    "def real_v1(x, t, k, omega, r):\n",
    "    result = (r * torch.tanh((r * (k + x + omega * t)) / torch.sqrt(torch.tensor(2.0))))**2\n",
    "    return result\n",
    "\n",
    "def compute_analytical_boundary_loss(model_u1_real, model_u1_imag, model_v1, x_boundary, t_boundary, mse_cost_function, k, omega, r):\n",
    "    pred_u_r = model_u1_real(x_boundary, t_boundary) \n",
    "    pred_u_i = model_u1_imag(x_boundary, t_boundary) \n",
    "    pred_v = model_v1(x_boundary, t_boundary)\n",
    "\n",
    "    real_u1_val = real_u1(x_boundary, t_boundary, k, omega, r)\n",
    "    imag_u1_val = imag_u1(x_boundary, t_boundary, k, omega, r)\n",
    "    real_v1_val = real_v1(x_boundary, t_boundary, k, omega, r)\n",
    " \n",
    "    boundary_loss_ur = mse_cost_function(pred_u_r, real_u1_val)\n",
    "    boundary_loss_ui = mse_cost_function(pred_u_i, imag_u1_val)\n",
    "    boundary_loss_v = mse_cost_function(pred_v, real_v1_val)\n",
    "    \n",
    "    return boundary_loss_ur, boundary_loss_ui, boundary_loss_v\n",
    "\n",
    "def compute_physics_loss(model_u1_real, model_u1_imag, model_v1, x, t, mse_cost_function, k, omega, r):\n",
    "    x.requires_grad = True\n",
    "    t.requires_grad = True\n",
    "    pred_u_r = model_u1_real(x, t)\n",
    "    pred_u_i = model_u1_imag(x, t)\n",
    "    pred_v = model_v1(x, t) \n",
    "\n",
    "    # Compute the differential equation residuals\n",
    "    du_eq_r, du_eq_i, dv_eq = coupled_higgs(pred_u_r, pred_u_i, pred_v, x, t)\n",
    "    \n",
    "    # Define target tensors of zeros with the same shape as the predictions\n",
    "    zeros_r = torch.zeros_like(du_eq_r, device=device)\n",
    "    zeros_i = torch.zeros_like(du_eq_i, device=device)\n",
    "    zeros_v = torch.zeros_like(dv_eq, device=device)\n",
    "    \n",
    "    # Compute the MSE loss against zeros for each differential equation residual\n",
    "    loss_r = mse_cost_function(du_eq_r, zeros_r)\n",
    "    loss_i = mse_cost_function(du_eq_i, zeros_i)\n",
    "    loss_v = mse_cost_function(dv_eq, zeros_v)\n",
    "    \n",
    "    # Return the scalar loss values for real part, imaginary part, and v\n",
    "    return loss_r, loss_i, loss_v"
   ]
  },
  {
   "cell_type": "code",
   "execution_count": 8,
   "id": "3f296d60-7405-4b4f-94c4-dc812c5a0d23",
   "metadata": {},
   "outputs": [
    {
     "name": "stdout",
     "output_type": "stream",
     "text": [
      "CUDA is available! Training on GPU.\n",
      "\n",
      "##################### model u1 real #################\n",
      "\n",
      "FFN(\n",
      "  (layers): ModuleList(\n",
      "    (0): Linear(in_features=2, out_features=64, bias=True)\n",
      "    (1): Tanh()\n",
      "    (2): Linear(in_features=64, out_features=64, bias=True)\n",
      "    (3): Tanh()\n",
      "    (4): Linear(in_features=64, out_features=1, bias=True)\n",
      "  )\n",
      ")\n",
      "\n",
      "##################### model u1 imag #################\n",
      "\n",
      "FFN(\n",
      "  (layers): ModuleList(\n",
      "    (0): Linear(in_features=2, out_features=64, bias=True)\n",
      "    (1): Tanh()\n",
      "    (2): Linear(in_features=64, out_features=64, bias=True)\n",
      "    (3): Tanh()\n",
      "    (4): Linear(in_features=64, out_features=1, bias=True)\n",
      "  )\n",
      ")\n",
      "\n",
      "##################### model v1 #################\n",
      "\n",
      "FFN(\n",
      "  (layers): ModuleList(\n",
      "    (0): Linear(in_features=2, out_features=64, bias=True)\n",
      "    (1): Tanh()\n",
      "    (2): Linear(in_features=64, out_features=64, bias=True)\n",
      "    (3): Tanh()\n",
      "    (4): Linear(in_features=64, out_features=1, bias=True)\n",
      "  )\n",
      ")\n"
     ]
    }
   ],
   "source": [
    "# Check if CUDA is available and set the default device\n",
    "if torch.cuda.is_available():\n",
    "    print(\"CUDA is available! Training on GPU.\")\n",
    "else:\n",
    "    print(\"CUDA is not available. Training on CPU.\")\n",
    "\n",
    "model_u1_real = FFN(input_dim=2, neurons=[64, 64, 1]).to(device)\n",
    "model_u1_imag = FFN(input_dim=2, neurons=[64, 64, 1]).to(device)\n",
    "model_v1 = FFN(input_dim=2, neurons=[64, 64, 1]).to(device)\n",
    "\n",
    "num_epochs = 100000  # Number of training epochs\n",
    "lr = 1e-4          # Learning rate\n",
    "num_samples = 1000 # Number of samples for training\n",
    "r = 1.1\n",
    "omega = 0.5\n",
    "k = 0.5\n",
    "lambda_ = 1e-3\n",
    "factor = 1.0\n",
    "step_x = 0.0\n",
    "step_t = 0.0\n",
    "\n",
    "optimizer_u1_real = Adam(model_u1_real.parameters(), lr=lr)\n",
    "optimizer_u1_imag = Adam(model_u1_imag.parameters(), lr=lr)\n",
    "optimizer_v1 = Adam(model_v1.parameters(), lr=lr)   \n",
    "mse_cost_function = torch.nn.MSELoss()\n",
    "model_save_path = 'testing_FFN'\n",
    "os.makedirs(model_save_path, exist_ok=True)\n",
    "losses = []\n",
    "\n",
    "print('\\n##################### model u1 real #################\\n')\n",
    "print(model_u1_real)\n",
    "print('\\n##################### model u1 imag #################\\n')\n",
    "print(model_u1_imag)\n",
    "print('\\n##################### model v1 #################\\n')\n",
    "print(model_v1)"
   ]
  },
  {
   "cell_type": "code",
   "execution_count": null,
   "id": "339a8160-6fba-4482-828e-928e1e08aca0",
   "metadata": {},
   "outputs": [],
   "source": [
    "# Assuming shared_model is defined and loaded with trained parameters\n",
    "model_u1_real_state = torch.load(os.path.join(model_save_path, f'C_HIGGS_U1_real_omega_{omega}_final.pth'), map_location=device)\n",
    "model_u1_imag_state = torch.load(os.path.join(model_save_path, f'C_HIGGS_U1_imag_omega_{omega}_final.pth'), map_location=device)\n",
    "model_v1_state = torch.load(os.path.join(model_save_path, f'C_HIGGS_V1_omega_{omega}_final.pth'), map_location=device)\n",
    "model_u1_real = FourierFeatureNN(input_dim=1, shared_units=128, output_dim=1, layers_per_path=4, scale=1.0, activation=SinActv).to(device)\n",
    "model_u1_imag = FourierFeatureNN(input_dim=1, shared_units=128, output_dim=1, layers_per_path=4, scale=1.0, activation=SinActv).to(device)\n",
    "model_v1 = FourierFeatureNN(input_dim=1, shared_units=128, output_dim=1, layers_per_path=4, scale=1.0, activation=nn.Tanh).to(device)\n",
    "model_u1_real.load_state_dict(model_u1_real_state)\n",
    "model_u1_imag.load_state_dict(model_u1_imag_state)\n",
    "model_v1.load_state_dict(model_v1_state) \n",
    "model_u1_real.train()\n",
    "model_u1_imag.train()\n",
    "model_v1.train()\n",
    "\n",
    "optimizer_u1_real = Adam(model_u1_real.parameters(), lr=lr)\n",
    "optimizer_u1_imag = Adam(model_u1_imag.parameters(), lr=lr)\n",
    "optimizer_v1 = Adam(model_v1.parameters(), lr=lr) "
   ]
  },
  {
   "cell_type": "code",
   "execution_count": 9,
   "id": "d20e63fa-c163-4640-a4db-118769e1e2f8",
   "metadata": {},
   "outputs": [
    {
     "name": "stderr",
     "output_type": "stream",
     "text": [
      "Progress::   0%|\u001b[34m                                                  \u001b[0m|16:11:55\u001b[0m"
     ]
    },
    {
     "name": "stdout",
     "output_type": "stream",
     "text": [
      "Epoch 0, Omega 0.5 , Loss U (real): 1.0530823469161987, Loss U (imag): 1.7357980012893677, Loss V: 2.3212432861328125\n"
     ]
    },
    {
     "name": "stderr",
     "output_type": "stream",
     "text": [
      "Progress::   1%|\u001b[34m▎                                                  \u001b[0m|8:42:06\u001b[0m"
     ]
    },
    {
     "name": "stdout",
     "output_type": "stream",
     "text": [
      "Epoch 500, Omega 0.6 , Loss U (real): 0.009500859305262566, Loss U (imag): 0.09358318895101547, Loss V: 0.005430046934634447\n"
     ]
    },
    {
     "name": "stderr",
     "output_type": "stream",
     "text": [
      "Progress::   1%|\u001b[34m▌                                                  \u001b[0m|9:18:51\u001b[0m"
     ]
    },
    {
     "name": "stdout",
     "output_type": "stream",
     "text": [
      "Epoch 1000, Omega 0.6 , Loss U (real): 0.007736410014331341, Loss U (imag): 0.0700010433793068, Loss V: 0.004490487277507782\n"
     ]
    },
    {
     "name": "stderr",
     "output_type": "stream",
     "text": [
      "Progress::   2%|\u001b[34m▊                                                  \u001b[0m|9:49:49\u001b[0m"
     ]
    },
    {
     "name": "stdout",
     "output_type": "stream",
     "text": [
      "Epoch 1500, Omega 0.6 , Loss U (real): 0.006045124027878046, Loss U (imag): 0.04183827340602875, Loss V: 0.0035643945448100567\n"
     ]
    },
    {
     "name": "stderr",
     "output_type": "stream",
     "text": [
      "Progress::   2%|\u001b[34m█                                                 \u001b[0m|10:14:07\u001b[0m"
     ]
    },
    {
     "name": "stdout",
     "output_type": "stream",
     "text": [
      "Epoch 2000, Omega 0.6 , Loss U (real): 0.004731119144707918, Loss U (imag): 0.013575122691690922, Loss V: 0.002725043799728155\n"
     ]
    },
    {
     "name": "stderr",
     "output_type": "stream",
     "text": [
      "Progress::   3%|\u001b[34m█▎                                                \u001b[0m|12:12:56\u001b[0m"
     ]
    },
    {
     "name": "stdout",
     "output_type": "stream",
     "text": [
      "Epoch 2500, Omega 0.6 , Loss U (real): 0.0037290339823812246, Loss U (imag): 0.005490937735885382, Loss V: 0.0021385420113801956\n"
     ]
    },
    {
     "name": "stderr",
     "output_type": "stream",
     "text": [
      "Progress::   3%|\u001b[34m█▌                                                \u001b[0m|11:56:58\u001b[0m"
     ]
    },
    {
     "name": "stdout",
     "output_type": "stream",
     "text": [
      "Epoch 3000, Omega 0.6 , Loss U (real): 0.003189787734299898, Loss U (imag): 0.00414561340585351, Loss V: 0.0015232439618557692\n"
     ]
    },
    {
     "name": "stderr",
     "output_type": "stream",
     "text": [
      "Progress::   4%|\u001b[34m█▊                                                \u001b[0m|13:18:10\u001b[0m"
     ]
    },
    {
     "name": "stdout",
     "output_type": "stream",
     "text": [
      "Epoch 3500, Omega 0.6 , Loss U (real): 0.002659423276782036, Loss U (imag): 0.0031162577215582132, Loss V: 0.0010149125009775162\n"
     ]
    },
    {
     "name": "stderr",
     "output_type": "stream",
     "text": [
      "Progress::   4%|\u001b[34m██                                                \u001b[0m|15:17:34\u001b[0m"
     ]
    },
    {
     "name": "stdout",
     "output_type": "stream",
     "text": [
      "Epoch 4000, Omega 0.6 , Loss U (real): 0.0018694715108722448, Loss U (imag): 0.0022916097659617662, Loss V: 0.000639881007373333\n"
     ]
    },
    {
     "name": "stderr",
     "output_type": "stream",
     "text": [
      "Progress::   5%|\u001b[34m██▎                                               \u001b[0m|13:01:57\u001b[0m"
     ]
    },
    {
     "name": "stdout",
     "output_type": "stream",
     "text": [
      "Epoch 4500, Omega 0.7 , Loss U (real): 0.0014115239027887583, Loss U (imag): 0.0019254686776548624, Loss V: 0.0004912373842671514\n"
     ]
    },
    {
     "name": "stderr",
     "output_type": "stream",
     "text": [
      "Progress::   5%|\u001b[34m██▌                                               \u001b[0m|14:41:08\u001b[0m"
     ]
    },
    {
     "name": "stdout",
     "output_type": "stream",
     "text": [
      "Epoch 5000, Omega 0.7 , Loss U (real): 0.0007609910098835826, Loss U (imag): 0.0011518377577885985, Loss V: 0.0002575799007900059\n"
     ]
    },
    {
     "name": "stderr",
     "output_type": "stream",
     "text": [
      "Progress::   5%|\u001b[34m██▌                                               \u001b[0m|17:32:30\u001b[0mException ignored in: <bound method IPythonKernel._clean_thread_parent_frames of <ipykernel.ipkernel.IPythonKernel object at 0x7ffff4ab9250>>\n",
      "Traceback (most recent call last):\n",
      "  File \"/home/venerable_white/Physics-Informed-Neural-Networks-for-Quantum-Dynamics/.mamba/envs/pytorch/lib/python3.12/site-packages/ipykernel/ipkernel.py\", line 770, in _clean_thread_parent_frames\n",
      "    def _clean_thread_parent_frames(\n",
      "\n",
      "KeyboardInterrupt: \n",
      "                                                                           |16:11:25\u001b[0m\r"
     ]
    },
    {
     "ename": "KeyboardInterrupt",
     "evalue": "",
     "output_type": "error",
     "traceback": [
      "\u001b[0;31m---------------------------------------------------------------------------\u001b[0m",
      "\u001b[0;31mKeyboardInterrupt\u001b[0m                         Traceback (most recent call last)",
      "Cell \u001b[0;32mIn[9], line 31\u001b[0m\n\u001b[1;32m     29\u001b[0m boundary_loss_ur_x1, boundary_loss_ui_x1, boundary_loss_v_x1 \u001b[38;5;241m=\u001b[39m compute_analytical_boundary_loss(model_u1_real, model_u1_imag, model_v1, x_bc_x1, t_bc_x1, mse_cost_function, k, omega, r)\n\u001b[1;32m     30\u001b[0m boundary_loss_ur_t0, boundary_loss_ui_t0, boundary_loss_v_t0 \u001b[38;5;241m=\u001b[39m compute_analytical_boundary_loss(model_u1_real, model_u1_imag, model_v1, x_bc_t0, t_bc_t0, mse_cost_function, k, omega, r)\n\u001b[0;32m---> 31\u001b[0m boundary_loss_ur_t1, boundary_loss_ui_t1, boundary_loss_v_t1 \u001b[38;5;241m=\u001b[39m \u001b[43mcompute_analytical_boundary_loss\u001b[49m\u001b[43m(\u001b[49m\u001b[43mmodel_u1_real\u001b[49m\u001b[43m,\u001b[49m\u001b[43m \u001b[49m\u001b[43mmodel_u1_imag\u001b[49m\u001b[43m,\u001b[49m\u001b[43m \u001b[49m\u001b[43mmodel_v1\u001b[49m\u001b[43m,\u001b[49m\u001b[43m \u001b[49m\u001b[43mx_bc_t1\u001b[49m\u001b[43m,\u001b[49m\u001b[43m \u001b[49m\u001b[43mt_bc_t1\u001b[49m\u001b[43m,\u001b[49m\u001b[43m \u001b[49m\u001b[43mmse_cost_function\u001b[49m\u001b[43m,\u001b[49m\u001b[43m \u001b[49m\u001b[43mk\u001b[49m\u001b[43m,\u001b[49m\u001b[43m \u001b[49m\u001b[43momega\u001b[49m\u001b[43m,\u001b[49m\u001b[43m \u001b[49m\u001b[43mr\u001b[49m\u001b[43m)\u001b[49m\n\u001b[1;32m     33\u001b[0m domain_loss_ur_t, domain_loss_ui_t, domain_loss_v_t \u001b[38;5;241m=\u001b[39m compute_analytical_boundary_loss(model_u1_real, model_u1_imag, model_v1, x_dom, t_dom, mse_cost_function, k, omega, r)\n\u001b[1;32m     35\u001b[0m \u001b[38;5;66;03m# Total loss \u001b[39;00m\n",
      "Cell \u001b[0;32mIn[7], line 47\u001b[0m, in \u001b[0;36mcompute_analytical_boundary_loss\u001b[0;34m(model_u1_real, model_u1_imag, model_v1, x_boundary, t_boundary, mse_cost_function, k, omega, r)\u001b[0m\n\u001b[1;32m     45\u001b[0m pred_u_r \u001b[38;5;241m=\u001b[39m model_u1_real(x_boundary, t_boundary) \n\u001b[1;32m     46\u001b[0m pred_u_i \u001b[38;5;241m=\u001b[39m model_u1_imag(x_boundary, t_boundary) \n\u001b[0;32m---> 47\u001b[0m pred_v \u001b[38;5;241m=\u001b[39m \u001b[43mmodel_v1\u001b[49m\u001b[43m(\u001b[49m\u001b[43mx_boundary\u001b[49m\u001b[43m,\u001b[49m\u001b[43m \u001b[49m\u001b[43mt_boundary\u001b[49m\u001b[43m)\u001b[49m\n\u001b[1;32m     49\u001b[0m real_u1_val \u001b[38;5;241m=\u001b[39m real_u1(x_boundary, t_boundary, k, omega, r)\n\u001b[1;32m     50\u001b[0m imag_u1_val \u001b[38;5;241m=\u001b[39m imag_u1(x_boundary, t_boundary, k, omega, r)\n",
      "File \u001b[0;32m~/Physics-Informed-Neural-Networks-for-Quantum-Dynamics/.mamba/envs/pytorch/lib/python3.12/site-packages/torch/nn/modules/module.py:1511\u001b[0m, in \u001b[0;36mModule._wrapped_call_impl\u001b[0;34m(self, *args, **kwargs)\u001b[0m\n\u001b[1;32m   1509\u001b[0m     \u001b[38;5;28;01mreturn\u001b[39;00m \u001b[38;5;28mself\u001b[39m\u001b[38;5;241m.\u001b[39m_compiled_call_impl(\u001b[38;5;241m*\u001b[39margs, \u001b[38;5;241m*\u001b[39m\u001b[38;5;241m*\u001b[39mkwargs)  \u001b[38;5;66;03m# type: ignore[misc]\u001b[39;00m\n\u001b[1;32m   1510\u001b[0m \u001b[38;5;28;01melse\u001b[39;00m:\n\u001b[0;32m-> 1511\u001b[0m     \u001b[38;5;28;01mreturn\u001b[39;00m \u001b[38;5;28;43mself\u001b[39;49m\u001b[38;5;241;43m.\u001b[39;49m\u001b[43m_call_impl\u001b[49m\u001b[43m(\u001b[49m\u001b[38;5;241;43m*\u001b[39;49m\u001b[43margs\u001b[49m\u001b[43m,\u001b[49m\u001b[43m \u001b[49m\u001b[38;5;241;43m*\u001b[39;49m\u001b[38;5;241;43m*\u001b[39;49m\u001b[43mkwargs\u001b[49m\u001b[43m)\u001b[49m\n",
      "File \u001b[0;32m~/Physics-Informed-Neural-Networks-for-Quantum-Dynamics/.mamba/envs/pytorch/lib/python3.12/site-packages/torch/nn/modules/module.py:1520\u001b[0m, in \u001b[0;36mModule._call_impl\u001b[0;34m(self, *args, **kwargs)\u001b[0m\n\u001b[1;32m   1515\u001b[0m \u001b[38;5;66;03m# If we don't have any hooks, we want to skip the rest of the logic in\u001b[39;00m\n\u001b[1;32m   1516\u001b[0m \u001b[38;5;66;03m# this function, and just call forward.\u001b[39;00m\n\u001b[1;32m   1517\u001b[0m \u001b[38;5;28;01mif\u001b[39;00m \u001b[38;5;129;01mnot\u001b[39;00m (\u001b[38;5;28mself\u001b[39m\u001b[38;5;241m.\u001b[39m_backward_hooks \u001b[38;5;129;01mor\u001b[39;00m \u001b[38;5;28mself\u001b[39m\u001b[38;5;241m.\u001b[39m_backward_pre_hooks \u001b[38;5;129;01mor\u001b[39;00m \u001b[38;5;28mself\u001b[39m\u001b[38;5;241m.\u001b[39m_forward_hooks \u001b[38;5;129;01mor\u001b[39;00m \u001b[38;5;28mself\u001b[39m\u001b[38;5;241m.\u001b[39m_forward_pre_hooks\n\u001b[1;32m   1518\u001b[0m         \u001b[38;5;129;01mor\u001b[39;00m _global_backward_pre_hooks \u001b[38;5;129;01mor\u001b[39;00m _global_backward_hooks\n\u001b[1;32m   1519\u001b[0m         \u001b[38;5;129;01mor\u001b[39;00m _global_forward_hooks \u001b[38;5;129;01mor\u001b[39;00m _global_forward_pre_hooks):\n\u001b[0;32m-> 1520\u001b[0m     \u001b[38;5;28;01mreturn\u001b[39;00m \u001b[43mforward_call\u001b[49m\u001b[43m(\u001b[49m\u001b[38;5;241;43m*\u001b[39;49m\u001b[43margs\u001b[49m\u001b[43m,\u001b[49m\u001b[43m \u001b[49m\u001b[38;5;241;43m*\u001b[39;49m\u001b[38;5;241;43m*\u001b[39;49m\u001b[43mkwargs\u001b[49m\u001b[43m)\u001b[49m\n\u001b[1;32m   1522\u001b[0m \u001b[38;5;28;01mtry\u001b[39;00m:\n\u001b[1;32m   1523\u001b[0m     result \u001b[38;5;241m=\u001b[39m \u001b[38;5;28;01mNone\u001b[39;00m\n",
      "Cell \u001b[0;32mIn[6], line 30\u001b[0m, in \u001b[0;36mFFN.forward\u001b[0;34m(self, x, t)\u001b[0m\n\u001b[1;32m     28\u001b[0m x \u001b[38;5;241m=\u001b[39m combined_input\n\u001b[1;32m     29\u001b[0m \u001b[38;5;28;01mfor\u001b[39;00m layer \u001b[38;5;129;01min\u001b[39;00m \u001b[38;5;28mself\u001b[39m\u001b[38;5;241m.\u001b[39mlayers:\n\u001b[0;32m---> 30\u001b[0m     x \u001b[38;5;241m=\u001b[39m \u001b[43mlayer\u001b[49m\u001b[43m(\u001b[49m\u001b[43mx\u001b[49m\u001b[43m)\u001b[49m\n\u001b[1;32m     31\u001b[0m \u001b[38;5;28;01mreturn\u001b[39;00m x\n",
      "File \u001b[0;32m~/Physics-Informed-Neural-Networks-for-Quantum-Dynamics/.mamba/envs/pytorch/lib/python3.12/site-packages/torch/nn/modules/module.py:1511\u001b[0m, in \u001b[0;36mModule._wrapped_call_impl\u001b[0;34m(self, *args, **kwargs)\u001b[0m\n\u001b[1;32m   1509\u001b[0m     \u001b[38;5;28;01mreturn\u001b[39;00m \u001b[38;5;28mself\u001b[39m\u001b[38;5;241m.\u001b[39m_compiled_call_impl(\u001b[38;5;241m*\u001b[39margs, \u001b[38;5;241m*\u001b[39m\u001b[38;5;241m*\u001b[39mkwargs)  \u001b[38;5;66;03m# type: ignore[misc]\u001b[39;00m\n\u001b[1;32m   1510\u001b[0m \u001b[38;5;28;01melse\u001b[39;00m:\n\u001b[0;32m-> 1511\u001b[0m     \u001b[38;5;28;01mreturn\u001b[39;00m \u001b[38;5;28;43mself\u001b[39;49m\u001b[38;5;241;43m.\u001b[39;49m\u001b[43m_call_impl\u001b[49m\u001b[43m(\u001b[49m\u001b[38;5;241;43m*\u001b[39;49m\u001b[43margs\u001b[49m\u001b[43m,\u001b[49m\u001b[43m \u001b[49m\u001b[38;5;241;43m*\u001b[39;49m\u001b[38;5;241;43m*\u001b[39;49m\u001b[43mkwargs\u001b[49m\u001b[43m)\u001b[49m\n",
      "File \u001b[0;32m~/Physics-Informed-Neural-Networks-for-Quantum-Dynamics/.mamba/envs/pytorch/lib/python3.12/site-packages/torch/nn/modules/module.py:1520\u001b[0m, in \u001b[0;36mModule._call_impl\u001b[0;34m(self, *args, **kwargs)\u001b[0m\n\u001b[1;32m   1515\u001b[0m \u001b[38;5;66;03m# If we don't have any hooks, we want to skip the rest of the logic in\u001b[39;00m\n\u001b[1;32m   1516\u001b[0m \u001b[38;5;66;03m# this function, and just call forward.\u001b[39;00m\n\u001b[1;32m   1517\u001b[0m \u001b[38;5;28;01mif\u001b[39;00m \u001b[38;5;129;01mnot\u001b[39;00m (\u001b[38;5;28mself\u001b[39m\u001b[38;5;241m.\u001b[39m_backward_hooks \u001b[38;5;129;01mor\u001b[39;00m \u001b[38;5;28mself\u001b[39m\u001b[38;5;241m.\u001b[39m_backward_pre_hooks \u001b[38;5;129;01mor\u001b[39;00m \u001b[38;5;28mself\u001b[39m\u001b[38;5;241m.\u001b[39m_forward_hooks \u001b[38;5;129;01mor\u001b[39;00m \u001b[38;5;28mself\u001b[39m\u001b[38;5;241m.\u001b[39m_forward_pre_hooks\n\u001b[1;32m   1518\u001b[0m         \u001b[38;5;129;01mor\u001b[39;00m _global_backward_pre_hooks \u001b[38;5;129;01mor\u001b[39;00m _global_backward_hooks\n\u001b[1;32m   1519\u001b[0m         \u001b[38;5;129;01mor\u001b[39;00m _global_forward_hooks \u001b[38;5;129;01mor\u001b[39;00m _global_forward_pre_hooks):\n\u001b[0;32m-> 1520\u001b[0m     \u001b[38;5;28;01mreturn\u001b[39;00m \u001b[43mforward_call\u001b[49m\u001b[43m(\u001b[49m\u001b[38;5;241;43m*\u001b[39;49m\u001b[43margs\u001b[49m\u001b[43m,\u001b[49m\u001b[43m \u001b[49m\u001b[38;5;241;43m*\u001b[39;49m\u001b[38;5;241;43m*\u001b[39;49m\u001b[43mkwargs\u001b[49m\u001b[43m)\u001b[49m\n\u001b[1;32m   1522\u001b[0m \u001b[38;5;28;01mtry\u001b[39;00m:\n\u001b[1;32m   1523\u001b[0m     result \u001b[38;5;241m=\u001b[39m \u001b[38;5;28;01mNone\u001b[39;00m\n",
      "File \u001b[0;32m~/Physics-Informed-Neural-Networks-for-Quantum-Dynamics/.mamba/envs/pytorch/lib/python3.12/site-packages/torch/nn/modules/linear.py:116\u001b[0m, in \u001b[0;36mLinear.forward\u001b[0;34m(self, input)\u001b[0m\n\u001b[1;32m    115\u001b[0m \u001b[38;5;28;01mdef\u001b[39;00m \u001b[38;5;21mforward\u001b[39m(\u001b[38;5;28mself\u001b[39m, \u001b[38;5;28minput\u001b[39m: Tensor) \u001b[38;5;241m-\u001b[39m\u001b[38;5;241m>\u001b[39m Tensor:\n\u001b[0;32m--> 116\u001b[0m     \u001b[38;5;28;01mreturn\u001b[39;00m \u001b[43mF\u001b[49m\u001b[38;5;241;43m.\u001b[39;49m\u001b[43mlinear\u001b[49m\u001b[43m(\u001b[49m\u001b[38;5;28;43minput\u001b[39;49m\u001b[43m,\u001b[49m\u001b[43m \u001b[49m\u001b[38;5;28;43mself\u001b[39;49m\u001b[38;5;241;43m.\u001b[39;49m\u001b[43mweight\u001b[49m\u001b[43m,\u001b[49m\u001b[43m \u001b[49m\u001b[38;5;28;43mself\u001b[39;49m\u001b[38;5;241;43m.\u001b[39;49m\u001b[43mbias\u001b[49m\u001b[43m)\u001b[49m\n",
      "File \u001b[0;32m~/Physics-Informed-Neural-Networks-for-Quantum-Dynamics/.mamba/envs/pytorch/lib/python3.12/site-packages/torch/fx/traceback.py:68\u001b[0m, in \u001b[0;36mformat_stack\u001b[0;34m()\u001b[0m\n\u001b[1;32m     65\u001b[0m     \u001b[38;5;28;01mreturn\u001b[39;00m [current_meta\u001b[38;5;241m.\u001b[39mget(\u001b[38;5;124m\"\u001b[39m\u001b[38;5;124mstack_trace\u001b[39m\u001b[38;5;124m\"\u001b[39m, \u001b[38;5;124m\"\u001b[39m\u001b[38;5;124m\"\u001b[39m)]\n\u001b[1;32m     66\u001b[0m \u001b[38;5;28;01melse\u001b[39;00m:\n\u001b[1;32m     67\u001b[0m     \u001b[38;5;66;03m# fallback to traceback.format_stack()\u001b[39;00m\n\u001b[0;32m---> 68\u001b[0m     \u001b[38;5;28;01mreturn\u001b[39;00m traceback\u001b[38;5;241m.\u001b[39mformat_list(\u001b[43mtraceback\u001b[49m\u001b[38;5;241;43m.\u001b[39;49m\u001b[43mextract_stack\u001b[49m\u001b[43m(\u001b[49m\u001b[43m)\u001b[49m[:\u001b[38;5;241m-\u001b[39m\u001b[38;5;241m1\u001b[39m])\n",
      "File \u001b[0;32m~/Physics-Informed-Neural-Networks-for-Quantum-Dynamics/.mamba/envs/pytorch/lib/python3.12/traceback.py:232\u001b[0m, in \u001b[0;36mextract_stack\u001b[0;34m(f, limit)\u001b[0m\n\u001b[1;32m    230\u001b[0m \u001b[38;5;28;01mif\u001b[39;00m f \u001b[38;5;129;01mis\u001b[39;00m \u001b[38;5;28;01mNone\u001b[39;00m:\n\u001b[1;32m    231\u001b[0m     f \u001b[38;5;241m=\u001b[39m sys\u001b[38;5;241m.\u001b[39m_getframe()\u001b[38;5;241m.\u001b[39mf_back\n\u001b[0;32m--> 232\u001b[0m stack \u001b[38;5;241m=\u001b[39m \u001b[43mStackSummary\u001b[49m\u001b[38;5;241;43m.\u001b[39;49m\u001b[43mextract\u001b[49m\u001b[43m(\u001b[49m\u001b[43mwalk_stack\u001b[49m\u001b[43m(\u001b[49m\u001b[43mf\u001b[49m\u001b[43m)\u001b[49m\u001b[43m,\u001b[49m\u001b[43m \u001b[49m\u001b[43mlimit\u001b[49m\u001b[38;5;241;43m=\u001b[39;49m\u001b[43mlimit\u001b[49m\u001b[43m)\u001b[49m\n\u001b[1;32m    233\u001b[0m stack\u001b[38;5;241m.\u001b[39mreverse()\n\u001b[1;32m    234\u001b[0m \u001b[38;5;28;01mreturn\u001b[39;00m stack\n",
      "File \u001b[0;32m~/Physics-Informed-Neural-Networks-for-Quantum-Dynamics/.mamba/envs/pytorch/lib/python3.12/traceback.py:395\u001b[0m, in \u001b[0;36mStackSummary.extract\u001b[0;34m(klass, frame_gen, limit, lookup_lines, capture_locals)\u001b[0m\n\u001b[1;32m    392\u001b[0m     \u001b[38;5;28;01mfor\u001b[39;00m f, lineno \u001b[38;5;129;01min\u001b[39;00m frame_gen:\n\u001b[1;32m    393\u001b[0m         \u001b[38;5;28;01myield\u001b[39;00m f, (lineno, \u001b[38;5;28;01mNone\u001b[39;00m, \u001b[38;5;28;01mNone\u001b[39;00m, \u001b[38;5;28;01mNone\u001b[39;00m)\n\u001b[0;32m--> 395\u001b[0m \u001b[38;5;28;01mreturn\u001b[39;00m \u001b[43mklass\u001b[49m\u001b[38;5;241;43m.\u001b[39;49m\u001b[43m_extract_from_extended_frame_gen\u001b[49m\u001b[43m(\u001b[49m\n\u001b[1;32m    396\u001b[0m \u001b[43m    \u001b[49m\u001b[43mextended_frame_gen\u001b[49m\u001b[43m(\u001b[49m\u001b[43m)\u001b[49m\u001b[43m,\u001b[49m\u001b[43m \u001b[49m\u001b[43mlimit\u001b[49m\u001b[38;5;241;43m=\u001b[39;49m\u001b[43mlimit\u001b[49m\u001b[43m,\u001b[49m\u001b[43m \u001b[49m\u001b[43mlookup_lines\u001b[49m\u001b[38;5;241;43m=\u001b[39;49m\u001b[43mlookup_lines\u001b[49m\u001b[43m,\u001b[49m\n\u001b[1;32m    397\u001b[0m \u001b[43m    \u001b[49m\u001b[43mcapture_locals\u001b[49m\u001b[38;5;241;43m=\u001b[39;49m\u001b[43mcapture_locals\u001b[49m\u001b[43m)\u001b[49m\n",
      "File \u001b[0;32m~/Physics-Informed-Neural-Networks-for-Quantum-Dynamics/.mamba/envs/pytorch/lib/python3.12/traceback.py:418\u001b[0m, in \u001b[0;36mStackSummary._extract_from_extended_frame_gen\u001b[0;34m(klass, frame_gen, limit, lookup_lines, capture_locals)\u001b[0m\n\u001b[1;32m    416\u001b[0m result \u001b[38;5;241m=\u001b[39m klass()\n\u001b[1;32m    417\u001b[0m fnames \u001b[38;5;241m=\u001b[39m \u001b[38;5;28mset\u001b[39m()\n\u001b[0;32m--> 418\u001b[0m \u001b[43m\u001b[49m\u001b[38;5;28;43;01mfor\u001b[39;49;00m\u001b[43m \u001b[49m\u001b[43mf\u001b[49m\u001b[43m,\u001b[49m\u001b[43m \u001b[49m\u001b[43m(\u001b[49m\u001b[43mlineno\u001b[49m\u001b[43m,\u001b[49m\u001b[43m \u001b[49m\u001b[43mend_lineno\u001b[49m\u001b[43m,\u001b[49m\u001b[43m \u001b[49m\u001b[43mcolno\u001b[49m\u001b[43m,\u001b[49m\u001b[43m \u001b[49m\u001b[43mend_colno\u001b[49m\u001b[43m)\u001b[49m\u001b[43m \u001b[49m\u001b[38;5;129;43;01min\u001b[39;49;00m\u001b[43m \u001b[49m\u001b[43mframe_gen\u001b[49m\u001b[43m:\u001b[49m\n\u001b[1;32m    419\u001b[0m \u001b[43m    \u001b[49m\u001b[43mco\u001b[49m\u001b[43m \u001b[49m\u001b[38;5;241;43m=\u001b[39;49m\u001b[43m \u001b[49m\u001b[43mf\u001b[49m\u001b[38;5;241;43m.\u001b[39;49m\u001b[43mf_code\u001b[49m\n\u001b[1;32m    420\u001b[0m \u001b[43m    \u001b[49m\u001b[43mfilename\u001b[49m\u001b[43m \u001b[49m\u001b[38;5;241;43m=\u001b[39;49m\u001b[43m \u001b[49m\u001b[43mco\u001b[49m\u001b[38;5;241;43m.\u001b[39;49m\u001b[43mco_filename\u001b[49m\n",
      "File \u001b[0;32m~/Physics-Informed-Neural-Networks-for-Quantum-Dynamics/.mamba/envs/pytorch/lib/python3.12/traceback.py:392\u001b[0m, in \u001b[0;36mStackSummary.extract.<locals>.extended_frame_gen\u001b[0;34m()\u001b[0m\n\u001b[1;32m    391\u001b[0m \u001b[38;5;28;01mdef\u001b[39;00m \u001b[38;5;21mextended_frame_gen\u001b[39m():\n\u001b[0;32m--> 392\u001b[0m \u001b[43m    \u001b[49m\u001b[38;5;28;43;01mfor\u001b[39;49;00m\u001b[43m \u001b[49m\u001b[43mf\u001b[49m\u001b[43m,\u001b[49m\u001b[43m \u001b[49m\u001b[43mlineno\u001b[49m\u001b[43m \u001b[49m\u001b[38;5;129;43;01min\u001b[39;49;00m\u001b[43m \u001b[49m\u001b[43mframe_gen\u001b[49m\u001b[43m:\u001b[49m\n\u001b[1;32m    393\u001b[0m \u001b[43m        \u001b[49m\u001b[38;5;28;43;01myield\u001b[39;49;00m\u001b[43m \u001b[49m\u001b[43mf\u001b[49m\u001b[43m,\u001b[49m\u001b[43m \u001b[49m\u001b[43m(\u001b[49m\u001b[43mlineno\u001b[49m\u001b[43m,\u001b[49m\u001b[43m \u001b[49m\u001b[38;5;28;43;01mNone\u001b[39;49;00m\u001b[43m,\u001b[49m\u001b[43m \u001b[49m\u001b[38;5;28;43;01mNone\u001b[39;49;00m\u001b[43m,\u001b[49m\u001b[43m \u001b[49m\u001b[38;5;28;43;01mNone\u001b[39;49;00m\u001b[43m)\u001b[49m\n",
      "File \u001b[0;32m~/Physics-Informed-Neural-Networks-for-Quantum-Dynamics/.mamba/envs/pytorch/lib/python3.12/traceback.py:335\u001b[0m, in \u001b[0;36mwalk_stack\u001b[0;34m(f)\u001b[0m\n\u001b[1;32m    333\u001b[0m \u001b[38;5;28;01mif\u001b[39;00m f \u001b[38;5;129;01mis\u001b[39;00m \u001b[38;5;28;01mNone\u001b[39;00m:\n\u001b[1;32m    334\u001b[0m     f \u001b[38;5;241m=\u001b[39m sys\u001b[38;5;241m.\u001b[39m_getframe()\u001b[38;5;241m.\u001b[39mf_back\u001b[38;5;241m.\u001b[39mf_back\u001b[38;5;241m.\u001b[39mf_back\u001b[38;5;241m.\u001b[39mf_back\n\u001b[0;32m--> 335\u001b[0m \u001b[38;5;28;01mwhile\u001b[39;00m f \u001b[38;5;129;01mis\u001b[39;00m \u001b[38;5;129;01mnot\u001b[39;00m \u001b[38;5;28;01mNone\u001b[39;00m:\n\u001b[1;32m    336\u001b[0m     \u001b[38;5;28;01myield\u001b[39;00m f, f\u001b[38;5;241m.\u001b[39mf_lineno\n\u001b[1;32m    337\u001b[0m     f \u001b[38;5;241m=\u001b[39m f\u001b[38;5;241m.\u001b[39mf_back\n",
      "\u001b[0;31mKeyboardInterrupt\u001b[0m: "
     ]
    }
   ],
   "source": [
    "# Training loop\n",
    "for epoch in tqdm(range(num_epochs),\n",
    "                  desc='Progress:',  # Empty description\n",
    "                  leave=False,  # Do not leave the progress bar when done\n",
    "                  ncols=75,  # Width of the progress bar\n",
    "                  mininterval=0.1,\n",
    "                  bar_format='{l_bar}{bar}|{remaining}',  # Only show the bar without any counters\n",
    "                  colour='blue'): \n",
    "    gc.collect()\n",
    "    x_n = ((torch.rand(num_samples, 1))*factor + step_x).to(device)  # x in range [-5, -3]\n",
    "    t_n = ((torch.rand(num_samples, 1))*factor + step_t).to(device)   \n",
    "    x_bc_x0 = torch.zeros((num_samples, 1)).to(device)\n",
    "    t_bc_x0 = torch.rand((num_samples, 1)).to(device)  # Uniformly distributed random values between 0 and 1\n",
    "    x_bc_x1 = torch.ones((num_samples, 1)).to(device)\n",
    "    t_bc_x1 = torch.rand((num_samples, 1)).to(device)  # Uniformly distributed random values between 0 and 1\n",
    "    x_bc_t0 = torch.rand((num_samples, 1)).to(device)  # Uniformly distributed random values between 0 and 1\n",
    "    t_bc_t0 = torch.zeros((num_samples, 1)).to(device)\n",
    "    x_bc_t1 = torch.rand((num_samples, 1)).to(device)  # Uniformly distributed random values between 0 and 1\n",
    "    t_bc_t1 = torch.ones((num_samples, 1)).to(device)\n",
    "    x_dom = ((torch.rand(num_samples, 1))*factor + step_t).to(device)\n",
    "    t_dom = ((torch.rand(num_samples, 1))*factor + step_t).to(device)\n",
    "    \n",
    "    optimizer_u1_real.zero_grad()\n",
    "    optimizer_u1_imag.zero_grad()\n",
    "    optimizer_v1.zero_grad()\n",
    "\n",
    "    physics_loss_ur, physics_loss_ui, physics_loss_v = compute_physics_loss(model_u1_real, model_u1_imag, model_v1, x_n, t_n, mse_cost_function, k, omega, r)\n",
    "    boundary_loss_ur_x0, boundary_loss_ui_x0, boundary_loss_v_x0 = compute_analytical_boundary_loss(model_u1_real, model_u1_imag, model_v1, x_bc_x0, t_bc_x0, mse_cost_function, k, omega, r)\n",
    "    boundary_loss_ur_x1, boundary_loss_ui_x1, boundary_loss_v_x1 = compute_analytical_boundary_loss(model_u1_real, model_u1_imag, model_v1, x_bc_x1, t_bc_x1, mse_cost_function, k, omega, r)\n",
    "    boundary_loss_ur_t0, boundary_loss_ui_t0, boundary_loss_v_t0 = compute_analytical_boundary_loss(model_u1_real, model_u1_imag, model_v1, x_bc_t0, t_bc_t0, mse_cost_function, k, omega, r)\n",
    "    boundary_loss_ur_t1, boundary_loss_ui_t1, boundary_loss_v_t1 = compute_analytical_boundary_loss(model_u1_real, model_u1_imag, model_v1, x_bc_t1, t_bc_t1, mse_cost_function, k, omega, r)\n",
    "\n",
    "    domain_loss_ur_t, domain_loss_ui_t, domain_loss_v_t = compute_analytical_boundary_loss(model_u1_real, model_u1_imag, model_v1, x_dom, t_dom, mse_cost_function, k, omega, r)\n",
    "   \n",
    "    # Total loss \n",
    "    loss_ur = lambda_*(physics_loss_ur + domain_loss_ur_t) + (1-lambda_)*(boundary_loss_ur_x0 + boundary_loss_ur_x1 + boundary_loss_ur_t0 + boundary_loss_ur_t1)\n",
    "    loss_ui = lambda_*(physics_loss_ui + domain_loss_ui_t) + (1-lambda_)*(boundary_loss_ui_x0 + boundary_loss_ui_x1 + boundary_loss_ui_t0 + boundary_loss_ui_t1)\n",
    "    loss_v = lambda_*(physics_loss_v + domain_loss_v_t) + (1-lambda_)*(boundary_loss_v_x0 + boundary_loss_v_x1 + boundary_loss_v_t0 + boundary_loss_v_t1)\n",
    "\n",
    "    total_loss = loss_ur + loss_ui + loss_v\n",
    "    \n",
    "    total_loss.backward()\n",
    "    optimizer_u1_real.step()\n",
    "    optimizer_u1_imag.step()\n",
    "    optimizer_v1.step()\n",
    "\n",
    "    # Print loss every few epochs\n",
    "    if epoch % 500 == 0:\n",
    "        print(f'Epoch {epoch}, Omega {omega} , Loss U (real): {loss_ur.item()}, Loss U (imag): {loss_ui.item()}, Loss V: {loss_v.item()}')\n",
    "\n",
    "    if epoch % 4000 == 0:\n",
    "        model_u1_real_filename = os.path.join(model_save_path, f'C_HIGGS_U1_real_omega_{omega}_final.pth')\n",
    "        torch.save(model_u1_real.state_dict(), model_u1_real_filename)\n",
    "\n",
    "        model_u1_imag_filename = os.path.join(model_save_path, f'C_HIGGS_U1_imag_omega_{omega}_final.pth')\n",
    "        torch.save(model_u1_imag.state_dict(), model_u1_imag_filename)\n",
    "        \n",
    "        model_v1_filename = os.path.join(model_save_path, f'C_HIGGS_V1_omega_{omega}_final.pth')\n",
    "        torch.save(model_v1.state_dict(), model_v1_filename)\n",
    "\n",
    "        omega += 0.1\n",
    "        \n",
    "        df_losses = pd.DataFrame(losses)\n",
    "        csv_file_path = 'loss_data/C_HIGGS_fourier_training_losses.csv'\n",
    "        df_losses.to_csv(csv_file_path, index=False)\n",
    "    \n",
    "    if total_loss.item() < 1e-4 or omega > 5.0:\n",
    "        print(f'Stopping early at epoch {epoch} due to reaching target loss.')\n",
    "        break\n",
    "        \n",
    "    losses.append({\n",
    "        'Epoch': epoch,\n",
    "        'Loss U (Real)': loss_ur.item(),\n",
    "        'Loss U (Imag)': loss_ui.item(),\n",
    "        'Loss V': loss_v.item(),\n",
    "        'Total Loss': total_loss.item(),\n",
    "        'Physics Loss': physics_loss_ur.item() + physics_loss_ui.item() + physics_loss_v.item(),\n",
    "        'Boundary Loss U(Real)': boundary_loss_ur_x0.item() + boundary_loss_ur_x1.item() + boundary_loss_ur_t0.item() + boundary_loss_ur_t1.item(),\n",
    "        'Boundary Loss U(Imag)': boundary_loss_ui_x0.item() + boundary_loss_ui_x1.item() + boundary_loss_ui_t0.item() + boundary_loss_ui_t1.item(),\n",
    "        'Boundary Loss V': boundary_loss_v_x0.item() + boundary_loss_v_x1.item() + boundary_loss_v_t0.item() + boundary_loss_v_t1.item(),\n",
    "        'Domain Loss': domain_loss_ui_t + domain_loss_ur_t + domain_loss_v_t\n",
    "    })\n"
   ]
  },
  {
   "cell_type": "code",
   "execution_count": 10,
   "id": "c0b1b402-7c8a-4cfc-8e2c-999b77b91ff1",
   "metadata": {},
   "outputs": [],
   "source": [
    "torch.cuda.empty_cache()"
   ]
  },
  {
   "cell_type": "code",
   "execution_count": 13,
   "id": "ff368259-7bfc-4ccb-a526-b2e6480f557f",
   "metadata": {},
   "outputs": [],
   "source": [
    "model_u1_real_filename = os.path.join(model_save_path, f'C_HIGGS_U1_real_final.pth')\n",
    "torch.save(model_u1_real.state_dict(), model_u1_real_filename)\n",
    "\n",
    "model_u1_imag_filename = os.path.join(model_save_path, f'C_HIGGS_U1_imag_final.pth')\n",
    "torch.save(model_u1_imag.state_dict(), model_u1_imag_filename)\n",
    "        \n",
    "model_v1_filename = os.path.join(model_save_path, f'C_HIGGS_V1_final.pth')\n",
    "torch.save(model_v1.state_dict(), model_v1_filename)"
   ]
  },
  {
   "cell_type": "code",
   "execution_count": 12,
   "id": "9af66534-7097-4f70-a124-5dd14d593cc8",
   "metadata": {},
   "outputs": [
    {
     "name": "stderr",
     "output_type": "stream",
     "text": [
      "/home/venerable_white/Physics-Informed-Neural-Networks-for-Quantum-Dynamics/.mamba/envs/pytorch/lib/python3.12/site-packages/torch/functional.py:507: UserWarning: torch.meshgrid: in an upcoming release, it will be required to pass the indexing argument. (Triggered internally at /opt/conda/conda-bld/pytorch_1708025824022/work/aten/src/ATen/native/TensorShape.cpp:3549.)\n",
      "  return _VF.meshgrid(tensors, **kwargs)  # type: ignore[attr-defined]\n"
     ]
    },
    {
     "ename": "FileNotFoundError",
     "evalue": "[Errno 2] No such file or directory: 'testing_FFN/C_HIGGS_U1_real_omega_0.7_final.pth'",
     "output_type": "error",
     "traceback": [
      "\u001b[0;31m---------------------------------------------------------------------------\u001b[0m",
      "\u001b[0;31mFileNotFoundError\u001b[0m                         Traceback (most recent call last)",
      "Cell \u001b[0;32mIn[12], line 15\u001b[0m\n\u001b[1;32m     12\u001b[0m T_flat \u001b[38;5;241m=\u001b[39m T\u001b[38;5;241m.\u001b[39mflatten()\u001b[38;5;241m.\u001b[39munsqueeze(\u001b[38;5;241m-\u001b[39m\u001b[38;5;241m1\u001b[39m)\u001b[38;5;241m.\u001b[39mto(device)\n\u001b[1;32m     14\u001b[0m \u001b[38;5;66;03m# Assuming shared_model is defined and loaded with trained parameters\u001b[39;00m\n\u001b[0;32m---> 15\u001b[0m model_u1_real_state \u001b[38;5;241m=\u001b[39m \u001b[43mtorch\u001b[49m\u001b[38;5;241;43m.\u001b[39;49m\u001b[43mload\u001b[49m\u001b[43m(\u001b[49m\u001b[43mos\u001b[49m\u001b[38;5;241;43m.\u001b[39;49m\u001b[43mpath\u001b[49m\u001b[38;5;241;43m.\u001b[39;49m\u001b[43mjoin\u001b[49m\u001b[43m(\u001b[49m\u001b[43mmodel_save_path\u001b[49m\u001b[43m,\u001b[49m\u001b[43m \u001b[49m\u001b[38;5;124;43mf\u001b[39;49m\u001b[38;5;124;43m'\u001b[39;49m\u001b[38;5;124;43mC_HIGGS_U1_real_omega_\u001b[39;49m\u001b[38;5;132;43;01m{\u001b[39;49;00m\u001b[43momega\u001b[49m\u001b[38;5;132;43;01m}\u001b[39;49;00m\u001b[38;5;124;43m_final.pth\u001b[39;49m\u001b[38;5;124;43m'\u001b[39;49m\u001b[43m)\u001b[49m\u001b[43m,\u001b[49m\u001b[43m \u001b[49m\u001b[43mmap_location\u001b[49m\u001b[38;5;241;43m=\u001b[39;49m\u001b[43mdevice\u001b[49m\u001b[43m)\u001b[49m\n\u001b[1;32m     16\u001b[0m model_u1_imag_state \u001b[38;5;241m=\u001b[39m torch\u001b[38;5;241m.\u001b[39mload(os\u001b[38;5;241m.\u001b[39mpath\u001b[38;5;241m.\u001b[39mjoin(model_save_path, \u001b[38;5;124mf\u001b[39m\u001b[38;5;124m'\u001b[39m\u001b[38;5;124mC_HIGGS_U1_imag_omega_\u001b[39m\u001b[38;5;132;01m{\u001b[39;00momega\u001b[38;5;132;01m}\u001b[39;00m\u001b[38;5;124m_final.pth\u001b[39m\u001b[38;5;124m'\u001b[39m), map_location\u001b[38;5;241m=\u001b[39mdevice)\n\u001b[1;32m     17\u001b[0m model_v1_state \u001b[38;5;241m=\u001b[39m torch\u001b[38;5;241m.\u001b[39mload(os\u001b[38;5;241m.\u001b[39mpath\u001b[38;5;241m.\u001b[39mjoin(model_save_path, \u001b[38;5;124mf\u001b[39m\u001b[38;5;124m'\u001b[39m\u001b[38;5;124mC_HIGGS_V1_omega_\u001b[39m\u001b[38;5;132;01m{\u001b[39;00momega\u001b[38;5;132;01m}\u001b[39;00m\u001b[38;5;124m_final.pth\u001b[39m\u001b[38;5;124m'\u001b[39m), map_location\u001b[38;5;241m=\u001b[39mdevice)\n",
      "File \u001b[0;32m~/Physics-Informed-Neural-Networks-for-Quantum-Dynamics/.mamba/envs/pytorch/lib/python3.12/site-packages/torch/serialization.py:998\u001b[0m, in \u001b[0;36mload\u001b[0;34m(f, map_location, pickle_module, weights_only, mmap, **pickle_load_args)\u001b[0m\n\u001b[1;32m    995\u001b[0m \u001b[38;5;28;01mif\u001b[39;00m \u001b[38;5;124m'\u001b[39m\u001b[38;5;124mencoding\u001b[39m\u001b[38;5;124m'\u001b[39m \u001b[38;5;129;01mnot\u001b[39;00m \u001b[38;5;129;01min\u001b[39;00m pickle_load_args\u001b[38;5;241m.\u001b[39mkeys():\n\u001b[1;32m    996\u001b[0m     pickle_load_args[\u001b[38;5;124m'\u001b[39m\u001b[38;5;124mencoding\u001b[39m\u001b[38;5;124m'\u001b[39m] \u001b[38;5;241m=\u001b[39m \u001b[38;5;124m'\u001b[39m\u001b[38;5;124mutf-8\u001b[39m\u001b[38;5;124m'\u001b[39m\n\u001b[0;32m--> 998\u001b[0m \u001b[38;5;28;01mwith\u001b[39;00m \u001b[43m_open_file_like\u001b[49m\u001b[43m(\u001b[49m\u001b[43mf\u001b[49m\u001b[43m,\u001b[49m\u001b[43m \u001b[49m\u001b[38;5;124;43m'\u001b[39;49m\u001b[38;5;124;43mrb\u001b[39;49m\u001b[38;5;124;43m'\u001b[39;49m\u001b[43m)\u001b[49m \u001b[38;5;28;01mas\u001b[39;00m opened_file:\n\u001b[1;32m    999\u001b[0m     \u001b[38;5;28;01mif\u001b[39;00m _is_zipfile(opened_file):\n\u001b[1;32m   1000\u001b[0m         \u001b[38;5;66;03m# The zipfile reader is going to advance the current file position.\u001b[39;00m\n\u001b[1;32m   1001\u001b[0m         \u001b[38;5;66;03m# If we want to actually tail call to torch.jit.load, we need to\u001b[39;00m\n\u001b[1;32m   1002\u001b[0m         \u001b[38;5;66;03m# reset back to the original position.\u001b[39;00m\n\u001b[1;32m   1003\u001b[0m         orig_position \u001b[38;5;241m=\u001b[39m opened_file\u001b[38;5;241m.\u001b[39mtell()\n",
      "File \u001b[0;32m~/Physics-Informed-Neural-Networks-for-Quantum-Dynamics/.mamba/envs/pytorch/lib/python3.12/site-packages/torch/serialization.py:445\u001b[0m, in \u001b[0;36m_open_file_like\u001b[0;34m(name_or_buffer, mode)\u001b[0m\n\u001b[1;32m    443\u001b[0m \u001b[38;5;28;01mdef\u001b[39;00m \u001b[38;5;21m_open_file_like\u001b[39m(name_or_buffer, mode):\n\u001b[1;32m    444\u001b[0m     \u001b[38;5;28;01mif\u001b[39;00m _is_path(name_or_buffer):\n\u001b[0;32m--> 445\u001b[0m         \u001b[38;5;28;01mreturn\u001b[39;00m \u001b[43m_open_file\u001b[49m\u001b[43m(\u001b[49m\u001b[43mname_or_buffer\u001b[49m\u001b[43m,\u001b[49m\u001b[43m \u001b[49m\u001b[43mmode\u001b[49m\u001b[43m)\u001b[49m\n\u001b[1;32m    446\u001b[0m     \u001b[38;5;28;01melse\u001b[39;00m:\n\u001b[1;32m    447\u001b[0m         \u001b[38;5;28;01mif\u001b[39;00m \u001b[38;5;124m'\u001b[39m\u001b[38;5;124mw\u001b[39m\u001b[38;5;124m'\u001b[39m \u001b[38;5;129;01min\u001b[39;00m mode:\n",
      "File \u001b[0;32m~/Physics-Informed-Neural-Networks-for-Quantum-Dynamics/.mamba/envs/pytorch/lib/python3.12/site-packages/torch/serialization.py:426\u001b[0m, in \u001b[0;36m_open_file.__init__\u001b[0;34m(self, name, mode)\u001b[0m\n\u001b[1;32m    425\u001b[0m \u001b[38;5;28;01mdef\u001b[39;00m \u001b[38;5;21m__init__\u001b[39m(\u001b[38;5;28mself\u001b[39m, name, mode):\n\u001b[0;32m--> 426\u001b[0m     \u001b[38;5;28msuper\u001b[39m()\u001b[38;5;241m.\u001b[39m\u001b[38;5;21m__init__\u001b[39m(\u001b[38;5;28;43mopen\u001b[39;49m\u001b[43m(\u001b[49m\u001b[43mname\u001b[49m\u001b[43m,\u001b[49m\u001b[43m \u001b[49m\u001b[43mmode\u001b[49m\u001b[43m)\u001b[49m)\n",
      "\u001b[0;31mFileNotFoundError\u001b[0m: [Errno 2] No such file or directory: 'testing_FFN/C_HIGGS_U1_real_omega_0.7_final.pth'"
     ]
    }
   ],
   "source": [
    "import torch\n",
    "import numpy as np\n",
    "import matplotlib.pyplot as plt\n",
    "from mpl_toolkits.mplot3d import Axes3D\n",
    "\n",
    "device = torch.device('cuda' if torch.cuda.is_available() else 'cpu')\n",
    "\n",
    "x = torch.linspace(0, 1, 400)\n",
    "t = torch.linspace(0, 1, 400)\n",
    "X, T = torch.meshgrid(x, t)  # Create a 2D grid of x and t\n",
    "X_flat = X.flatten().unsqueeze(-1).to(device)\n",
    "T_flat = T.flatten().unsqueeze(-1).to(device)\n",
    "\n",
    "# Assuming shared_model is defined and loaded with trained parameters\n",
    "model_u1_real_state = torch.load(os.path.join(model_save_path, f'C_HIGGS_U1_real_omega_{omega}_final.pth'), map_location=device)\n",
    "model_u1_imag_state = torch.load(os.path.join(model_save_path, f'C_HIGGS_U1_imag_omega_{omega}_final.pth'), map_location=device)\n",
    "model_v1_state = torch.load(os.path.join(model_save_path, f'C_HIGGS_V1_omega_{omega}_final.pth'), map_location=device)\n",
    "model_u1_real = FourierFeatureNN(input_dim=1, shared_units=128, output_dim=1, layers_per_path=4, scale=1.0, activation=SinActv).to(device)\n",
    "model_u1_imag = FourierFeatureNN(input_dim=1, shared_units=128, output_dim=1, layers_per_path=4, scale=1.0, activation=SinActv).to(device)\n",
    "model_v1 = FourierFeatureNN(input_dim=1, shared_units=128, output_dim=1, layers_per_path=4, scale=1.0, activation=nn.Tanh).to(device)\n",
    "model_u1_real.load_state_dict(model_u1_real_state)\n",
    "model_u1_imag.load_state_dict(model_u1_imag_state)\n",
    "model_v1.load_state_dict(model_v1_state)\n",
    "model_u1_real.eval()\n",
    "model_u1_imag.eval()\n",
    "model_v1.eval()\n",
    "# Get predictions from the trained models\n",
    "with torch.no_grad():\n",
    "    pred_u_r = model_u1_real(X_flat, T_flat).cpu().reshape(X.shape).numpy()\n",
    "    pred_u_i = model_u1_imag(X_flat, T_flat).cpu().reshape(X.shape).numpy()\n",
    "    pred_v = model_v1(X_flat, T_flat).cpu().reshape(X.shape).numpy()\n",
    "\n",
    "real_u1_analytical = real_u1(X_flat, T_flat, k, omega, r).cpu().reshape(X.shape).numpy()\n",
    "imag_u1_analytical = imag_u1(X_flat, T_flat, k, omega, r).cpu().reshape(X.shape).numpy()\n",
    "real_v1_analytical = real_v1(X_flat, T_flat, k, omega, r).cpu().reshape(X.shape).numpy()\n",
    "\n",
    "# Plotting predictions\n",
    "fig = plt.figure(figsize=(20, 6))\n",
    "\n",
    "# Plot predicted real part of u1\n",
    "ax1 = fig.add_subplot(131, projection='3d')\n",
    "surf1 = ax1.plot_surface(X.numpy(), T.numpy(), pred_u_r, cmap='viridis')\n",
    "fig.colorbar(surf1, ax=ax1, shrink=0.5, aspect=5)\n",
    "ax1.set_title('Predicted Real Part of $u_1(x, t)$')\n",
    "ax1.set_xlabel('x')\n",
    "ax1.set_ylabel('t')\n",
    "ax1.set_zlabel('Real part of $u_1$')\n",
    "\n",
    "# Plot predicted imaginary part of u1\n",
    "ax2 = fig.add_subplot(132, projection='3d')\n",
    "surf2 = ax2.plot_surface(X.numpy(), T.numpy(), pred_u_i, cmap='viridis')\n",
    "fig.colorbar(surf2, ax=ax2, shrink=0.5, aspect=5)\n",
    "ax2.set_title('Predicted Imaginary Part of $u_1(x, t)$')\n",
    "ax2.set_xlabel('x')\n",
    "ax2.set_ylabel('t')\n",
    "ax2.set_zlabel('Imag part of $u_1$')\n",
    "\n",
    "# Plot predicted real part of v1\n",
    "ax3 = fig.add_subplot(133, projection='3d')\n",
    "surf3 = ax3.plot_surface(X.numpy(), T.numpy(), pred_v, cmap='viridis')\n",
    "fig.colorbar(surf3, ax=ax3, shrink=0.5, aspect=5)\n",
    "ax3.set_title('Predicted Real Part of $v_1(x, t)$')\n",
    "ax3.set_xlabel('x')\n",
    "ax3.set_ylabel('t')\n",
    "ax3.set_zlabel('Real part of $v_1$')\n",
    "\n",
    "plt.tight_layout()\n",
    "plt.show()\n",
    "\n",
    "# Plotting analytical solutions\n",
    "fig = plt.figure(figsize=(20, 6))\n",
    "\n",
    "# Plot analytical real part of u1\n",
    "ax1 = fig.add_subplot(131, projection='3d')\n",
    "surf1 = ax1.plot_surface(X.numpy(), T.numpy(), real_u1_analytical, cmap='viridis')\n",
    "fig.colorbar(surf1, ax=ax1, shrink=0.5, aspect=5)\n",
    "ax1.set_title('Analytical Real Part of $u_1(x, t)$')\n",
    "ax1.set_xlabel('x')\n",
    "ax1.set_ylabel('t')\n",
    "ax1.set_zlabel('Real part of $u_1$')\n",
    "\n",
    "# Plot analytical imaginary part of u1\n",
    "ax2 = fig.add_subplot(132, projection='3d')\n",
    "surf2 = ax2.plot_surface(X.numpy(), T.numpy(), imag_u1_analytical, cmap='viridis')\n",
    "fig.colorbar(surf2, ax=ax2, shrink=0.5, aspect=5)\n",
    "ax2.set_title('Analytical Imaginary Part of $u_1(x, t)$')\n",
    "ax2.set_xlabel('x')\n",
    "ax2.set_ylabel('t')\n",
    "ax2.set_zlabel('Imag part of $u_1$')\n",
    "\n",
    "# Plot analytical real part of v1\n",
    "ax3 = fig.add_subplot(133, projection='3d')\n",
    "surf3 = ax3.plot_surface(X.numpy(), T.numpy(), real_v1_analytical, cmap='viridis')\n",
    "fig.colorbar(surf3, ax=ax3, shrink=0.5, aspect=5)\n",
    "ax3.set_title('Analytical Real Part of $v_1(x, t)$')\n",
    "ax3.set_xlabel('x')\n",
    "ax3.set_ylabel('t')\n",
    "ax3.set_zlabel('Real part of $v_1$')\n",
    "\n",
    "plt.tight_layout()\n",
    "plt.show()"
   ]
  },
  {
   "cell_type": "code",
   "execution_count": null,
   "id": "208b7584-c3e5-431e-b936-310f70fb4f96",
   "metadata": {},
   "outputs": [],
   "source": []
  }
 ],
 "metadata": {
  "kernelspec": {
   "display_name": "Python 3 (ipykernel)",
   "language": "python",
   "name": "python3"
  },
  "language_info": {
   "codemirror_mode": {
    "name": "ipython",
    "version": 3
   },
   "file_extension": ".py",
   "mimetype": "text/x-python",
   "name": "python",
   "nbconvert_exporter": "python",
   "pygments_lexer": "ipython3",
   "version": "3.12.2"
  }
 },
 "nbformat": 4,
 "nbformat_minor": 5
}
